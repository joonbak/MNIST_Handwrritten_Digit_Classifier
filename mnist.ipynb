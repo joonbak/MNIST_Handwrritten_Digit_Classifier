{
 "cells": [
  {
   "cell_type": "code",
   "execution_count": 79,
   "metadata": {},
   "outputs": [],
   "source": [
    "import torch\n",
    "from torch import optim\n",
    "import torch.nn as nn\n",
    "import torch.nn.functional as F\n",
    "\n",
    "import torchvision\n",
    "from torchvision import transforms, datasets\n",
    "\n",
    "import matplotlib.pyplot as plt\n",
    "import numpy as np"
   ]
  },
  {
   "cell_type": "code",
   "execution_count": 80,
   "metadata": {},
   "outputs": [
    {
     "name": "stdout",
     "output_type": "stream",
     "text": [
      "cpu\n"
     ]
    }
   ],
   "source": [
    "# If on Nvidia GPU or different OS change device to CUDA\n",
    "#device = torch.device(\"mps\" if torch.backends.mps.is_available() else \"cpu\")\n",
    "device = torch.device(\"cpu\")\n",
    "print(device)"
   ]
  },
  {
   "attachments": {},
   "cell_type": "markdown",
   "metadata": {},
   "source": [
    "AUGMENT THE DATASET"
   ]
  },
  {
   "cell_type": "code",
   "execution_count": 81,
   "metadata": {},
   "outputs": [],
   "source": [
    "augment_transform = transforms.Compose([\n",
    "    transforms.RandomAffine(degrees=15, translate=(0.15, 0.15), scale=(0.8, 1.2)),\n",
    "    transforms.ToTensor(),\n",
    "])\n",
    "\n",
    "train_transform = transforms.Compose([\n",
    "    transforms.ToTensor(),\n",
    "])\n",
    "\n",
    "test_transform = transforms.Compose([\n",
    "    transforms.ToTensor(),\n",
    "])"
   ]
  },
  {
   "attachments": {},
   "cell_type": "markdown",
   "metadata": {},
   "source": [
    "LOADING THE DATASET"
   ]
  },
  {
   "cell_type": "code",
   "execution_count": 82,
   "metadata": {},
   "outputs": [],
   "source": [
    "train_dataset = datasets.MNIST(\"\", train=True, download=True, transform=train_transform)\n",
    "augmented_dataset = datasets.MNIST(\"\", train=True, download=True, transform=augment_transform)\n",
    "\n",
    "combined_dataset = torch.utils.data.ConcatDataset([train_dataset, augmented_dataset])\n",
    "\n",
    "test_dataset = datasets.MNIST(\"\", train=False, download=True, transform=test_transform)"
   ]
  },
  {
   "cell_type": "code",
   "execution_count": 83,
   "metadata": {},
   "outputs": [],
   "source": [
    "BATCH_SIZE = 64\n",
    "\n",
    "train_loader = torch.utils.data.DataLoader(combined_dataset, batch_size=BATCH_SIZE, shuffle=True)\n",
    "test_loader = torch.utils.data.DataLoader(test_dataset, batch_size=BATCH_SIZE, shuffle=True)"
   ]
  },
  {
   "cell_type": "code",
   "execution_count": 107,
   "metadata": {},
   "outputs": [
    {
     "name": "stdout",
     "output_type": "stream",
     "text": [
      "torch.Size([60000, 28, 28])\n",
      "120000\n"
     ]
    }
   ],
   "source": [
    "print(train_dataset.data.size())\n",
    "print(len(combined_dataset))"
   ]
  },
  {
   "cell_type": "code",
   "execution_count": 103,
   "metadata": {},
   "outputs": [
    {
     "data": {
      "image/png": "[encoded data removed]",
      "text/plain": [
       "<Figure size 640x480 with 1 Axes>"
      ]
     },
     "metadata": {},
     "output_type": "display_data"
    }
   ],
   "source": [
    "plt.imshow(train_loader.dataset[0][0].squeeze().numpy(), cmap='gray')\n",
    "plt.title('%i' % train_loader.dataset[0][1])\n",
    "plt.show()"
   ]
  },
  {
   "attachments": {},
   "cell_type": "markdown",
   "metadata": {},
   "source": [
    "CREATING THE MODEL"
   ]
  },
  {
   "cell_type": "code",
   "execution_count": 86,
   "metadata": {},
   "outputs": [],
   "source": [
    "class CNN(nn.Module):\n",
    "    def __init__(self):\n",
    "        super().__init__()\n",
    "        self.conv_layers = nn.Sequential(\n",
    "            nn.Conv2d(1, 32, kernel_size=3, stride=1, padding=1),\n",
    "            nn.BatchNorm2d(32),\n",
    "            nn.ReLU(inplace=True),\n",
    "            nn.MaxPool2d(kernel_size=2, stride=2),\n",
    "            nn.Conv2d(32, 64, kernel_size=3, stride=1, padding=1),\n",
    "            nn.BatchNorm2d(64),\n",
    "            nn.ReLU(inplace=True),\n",
    "            nn.MaxPool2d(kernel_size=2, stride=2)\n",
    "        )\n",
    "\n",
    "        self.linear_layers = nn.Sequential(\n",
    "            nn.Dropout(0.2),\n",
    "            nn.Linear(64*7*7, 64),\n",
    "            nn.BatchNorm1d(64),\n",
    "            nn.ReLU(inplace=True),\n",
    "            nn.Dropout(0.2),\n",
    "            nn.Linear(64, 10)\n",
    "        )\n",
    "\n",
    "    def forward(self, x):\n",
    "        x = self.conv_layers(x)\n",
    "        x = x.view(x.size(0), -1)  # Flatten the output of conv_layers for linear_layers\n",
    "        x = self.linear_layers(x)\n",
    "\n",
    "        return x\n",
    "\n"
   ]
  },
  {
   "attachments": {},
   "cell_type": "markdown",
   "metadata": {},
   "source": [
    "DEFINE MODEL, LOSS FUNCTION AND OPTIMIZER"
   ]
  },
  {
   "cell_type": "code",
   "execution_count": 87,
   "metadata": {},
   "outputs": [],
   "source": [
    "model = CNN()\n",
    "model.to(device)\n",
    "optimizer = optim.Adam(model.parameters(), lr=0.001)\n",
    "criterion = nn.CrossEntropyLoss()\n",
    "criterion = criterion.to(device)"
   ]
  },
  {
   "attachments": {},
   "cell_type": "markdown",
   "metadata": {},
   "source": [
    "TRAINING THE MODEL"
   ]
  },
  {
   "cell_type": "code",
   "execution_count": 88,
   "metadata": {},
   "outputs": [],
   "source": [
    "def train(n_epoch):\n",
    "    model.train()\n",
    "    total_step = len(train_loader.dataset)\n",
    "    \n",
    "\n",
    "    for i, (data, target) in enumerate(train_loader):\n",
    "        data = data.to(device)\n",
    "        target = target.to(device)\n",
    "        optimizer.zero_grad()\n",
    "        output = model(data)\n",
    "        loss = criterion(output, target)\n",
    "        loss.backward()\n",
    "        optimizer.step()\n",
    "\n",
    "        if (i+1) % 100 == 0:\n",
    "            print(f\"Epoch: {n_epoch+1}, Step: [{(i+1)*len(data)}/{total_step}], Loss: {loss.item():.4f}\")"
   ]
  },
  {
   "cell_type": "code",
   "execution_count": 89,
   "metadata": {},
   "outputs": [],
   "source": [
    "def test():\n",
    "    model.eval()\n",
    "    loss = 0\n",
    "    total = 0\n",
    "    correct = 0\n",
    "\n",
    "    with torch.no_grad():\n",
    "        for data, target in test_loader:\n",
    "            data = data.to(device)\n",
    "            target = target.to(device)\n",
    "            output = model(data)\n",
    "            loss += F.cross_entropy(output, target, size_average=False).item()\n",
    "            _, predicted = torch.max(output.data, 1)\n",
    "            total += target.size(0)\n",
    "            correct += (predicted == target).sum().item()\n",
    "\n",
    "        loss /= len(test_loader.dataset)\n",
    "        print(f\"\\nTest Set: Average Val Loss: {loss:.4f}, Accuracy: {100*correct/total}% [{correct}/{total}]\\n\")\n",
    "        "
   ]
  },
  {
   "cell_type": "code",
   "execution_count": 90,
   "metadata": {},
   "outputs": [
    {
     "name": "stdout",
     "output_type": "stream",
     "text": [
      "Epoch: 1, Step: [6400/120000], Loss: 0.6224\n",
      "Epoch: 1, Step: [12800/120000], Loss: 0.5960\n",
      "Epoch: 1, Step: [19200/120000], Loss: 0.2555\n",
      "Epoch: 1, Step: [25600/120000], Loss: 0.2049\n",
      "Epoch: 1, Step: [32000/120000], Loss: 0.2747\n",
      "Epoch: 1, Step: [38400/120000], Loss: 0.1618\n",
      "Epoch: 1, Step: [44800/120000], Loss: 0.2992\n",
      "Epoch: 1, Step: [51200/120000], Loss: 0.1455\n",
      "Epoch: 1, Step: [57600/120000], Loss: 0.3081\n",
      "Epoch: 1, Step: [64000/120000], Loss: 0.2174\n",
      "Epoch: 1, Step: [70400/120000], Loss: 0.1829\n",
      "Epoch: 1, Step: [76800/120000], Loss: 0.1382\n",
      "Epoch: 1, Step: [83200/120000], Loss: 0.0845\n",
      "Epoch: 1, Step: [89600/120000], Loss: 0.1869\n",
      "Epoch: 1, Step: [96000/120000], Loss: 0.2583\n",
      "Epoch: 1, Step: [102400/120000], Loss: 0.0691\n",
      "Epoch: 1, Step: [108800/120000], Loss: 0.0896\n",
      "Epoch: 1, Step: [115200/120000], Loss: 0.1760\n"
     ]
    },
    {
     "name": "stderr",
     "output_type": "stream",
     "text": [
      "/Users/joonbak/Desktop/mnist_cnn_project/new_env/lib/python3.11/site-packages/torch/nn/_reduction.py:42: UserWarning: size_average and reduce args will be deprecated, please use reduction='sum' instead.\n",
      "  warnings.warn(warning.format(ret))\n"
     ]
    },
    {
     "name": "stdout",
     "output_type": "stream",
     "text": [
      "\n",
      "Test Set: Average Val Loss: 0.0347, Accuracy: 98.82% [9882/10000]\n",
      "\n",
      "Epoch: 2, Step: [6400/120000], Loss: 0.0828\n",
      "Epoch: 2, Step: [12800/120000], Loss: 0.1611\n",
      "Epoch: 2, Step: [19200/120000], Loss: 0.1471\n",
      "Epoch: 2, Step: [25600/120000], Loss: 0.1594\n",
      "Epoch: 2, Step: [32000/120000], Loss: 0.1322\n",
      "Epoch: 2, Step: [38400/120000], Loss: 0.1594\n",
      "Epoch: 2, Step: [44800/120000], Loss: 0.1096\n",
      "Epoch: 2, Step: [51200/120000], Loss: 0.1611\n",
      "Epoch: 2, Step: [57600/120000], Loss: 0.1711\n",
      "Epoch: 2, Step: [64000/120000], Loss: 0.0696\n",
      "Epoch: 2, Step: [70400/120000], Loss: 0.0544\n",
      "Epoch: 2, Step: [76800/120000], Loss: 0.1509\n",
      "Epoch: 2, Step: [83200/120000], Loss: 0.0690\n",
      "Epoch: 2, Step: [89600/120000], Loss: 0.0305\n",
      "Epoch: 2, Step: [96000/120000], Loss: 0.0807\n",
      "Epoch: 2, Step: [102400/120000], Loss: 0.1786\n",
      "Epoch: 2, Step: [108800/120000], Loss: 0.0540\n",
      "Epoch: 2, Step: [115200/120000], Loss: 0.0455\n",
      "\n",
      "Test Set: Average Val Loss: 0.0288, Accuracy: 99.05% [9905/10000]\n",
      "\n",
      "Epoch: 3, Step: [6400/120000], Loss: 0.0359\n",
      "Epoch: 3, Step: [12800/120000], Loss: 0.0798\n",
      "Epoch: 3, Step: [19200/120000], Loss: 0.1324\n",
      "Epoch: 3, Step: [25600/120000], Loss: 0.0145\n",
      "Epoch: 3, Step: [32000/120000], Loss: 0.0825\n",
      "Epoch: 3, Step: [38400/120000], Loss: 0.0640\n",
      "Epoch: 3, Step: [44800/120000], Loss: 0.0862\n",
      "Epoch: 3, Step: [51200/120000], Loss: 0.1439\n",
      "Epoch: 3, Step: [57600/120000], Loss: 0.1393\n",
      "Epoch: 3, Step: [64000/120000], Loss: 0.0625\n",
      "Epoch: 3, Step: [70400/120000], Loss: 0.1077\n",
      "Epoch: 3, Step: [76800/120000], Loss: 0.0810\n",
      "Epoch: 3, Step: [83200/120000], Loss: 0.0321\n",
      "Epoch: 3, Step: [89600/120000], Loss: 0.0742\n",
      "Epoch: 3, Step: [96000/120000], Loss: 0.1014\n",
      "Epoch: 3, Step: [102400/120000], Loss: 0.1692\n",
      "Epoch: 3, Step: [108800/120000], Loss: 0.0476\n",
      "Epoch: 3, Step: [115200/120000], Loss: 0.0733\n",
      "\n",
      "Test Set: Average Val Loss: 0.0230, Accuracy: 99.36% [9936/10000]\n",
      "\n"
     ]
    }
   ],
   "source": [
    "N_EPOCH = 3\n",
    "\n",
    "for n in range(N_EPOCH):\n",
    "    train(n)\n",
    "    test()"
   ]
  },
  {
   "cell_type": "code",
   "execution_count": 91,
   "metadata": {},
   "outputs": [],
   "source": [
    "torch.save(model.state_dict(), \"Conv_model2.pt\")"
   ]
  },
  {
   "cell_type": "code",
   "execution_count": 92,
   "metadata": {},
   "outputs": [],
   "source": [
    "def predict(index):\n",
    "    # Load the digit image\n",
    "    digit_image = train_loader.dataset[index][0]\n",
    "    true_label = train_loader.dataset[index][1]\n",
    "\n",
    "    # Reshape the image tensor to 2D\n",
    "    image = digit_image.squeeze().numpy()\n",
    "\n",
    "    # Display the image\n",
    "    plt.imshow(image, cmap='gray')\n",
    "    plt.title(f\"True Label: {true_label}\")\n",
    "    plt.axis('off')\n",
    "    plt.show()\n",
    "\n",
    "    # Make a prediction\n",
    "    model.eval()\n",
    "    with torch.no_grad():\n",
    "        image = digit_image.unsqueeze(0).to(device)\n",
    "        output = model(image)\n",
    "        _, predicted = torch.max(output.data, 1)\n",
    "\n",
    "    predicted_label = predicted.item()\n",
    "    print(f\"Predicted Label: {predicted_label}\")\n",
    "\n",
    "    # Calculate prediction accuracy\n",
    "    correct = (predicted_label == true_label)\n",
    "    accuracy = 100 * correct\n",
    "    print(f\"Prediction Accuracy: {accuracy:.2f}%\")\n",
    "\n"
   ]
  },
  {
   "cell_type": "code",
   "execution_count": 104,
   "metadata": {},
   "outputs": [
    {
     "data": {
      "image/png": "[encoded data removed]",
      "text/plain": [
       "<Figure size 640x480 with 1 Axes>"
      ]
     },
     "metadata": {},
     "output_type": "display_data"
    },
    {
     "name": "stdout",
     "output_type": "stream",
     "text": [
      "Predicted Label: 5\n",
      "Prediction Accuracy: 100.00%\n"
     ]
    }
   ],
   "source": [
    "predict(0)"
   ]
  }
 ],
 "metadata": {
  "kernelspec": {
   "display_name": "mnist_env",
   "language": "python",
   "name": "python3"
  },
  "language_info": {
   "codemirror_mode": {
    "name": "ipython",
    "version": 3
   },
   "file_extension": ".py",
   "mimetype": "text/x-python",
   "name": "python",
   "nbconvert_exporter": "python",
   "pygments_lexer": "ipython3",
   "version": "3.11.3"
  },
  "orig_nbformat": 4
 },
 "nbformat": 4,
 "nbformat_minor": 2
}
